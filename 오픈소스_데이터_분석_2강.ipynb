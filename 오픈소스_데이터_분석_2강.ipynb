{
  "cells": [
    {
      "cell_type": "markdown",
      "metadata": {
        "id": "view-in-github",
        "colab_type": "text"
      },
      "source": [
        "<a href=\"https://colab.research.google.com/github/kamg2218/Data-Analysis-with-Open-Source/blob/main/%EC%98%A4%ED%94%88%EC%86%8C%EC%8A%A4_%EB%8D%B0%EC%9D%B4%ED%84%B0_%EB%B6%84%EC%84%9D_2%EA%B0%95.ipynb\" target=\"_parent\"><img src=\"https://colab.research.google.com/assets/colab-badge.svg\" alt=\"Open In Colab\"/></a>"
      ]
    },
    {
      "cell_type": "markdown",
      "metadata": {
        "id": "DkPKaAsoRq5Q"
      },
      "source": [
        "\n",
        "\n",
        "# 오픈소스 기반 데이터 분석 2강 - 데이터 분석을 위한 파이썬 1\n"
      ]
    },
    {
      "cell_type": "markdown",
      "metadata": {
        "id": "-I7BVVlnRrB0"
      },
      "source": [
        "## 2-1 리스트 슬라이싱"
      ]
    },
    {
      "cell_type": "code",
      "execution_count": 6,
      "metadata": {
        "id": "2Y2HEiaiRwAI",
        "outputId": "1e3290e5-eddb-47a5-e0bb-59169df5f57d",
        "colab": {
          "base_uri": "https://localhost:8080/"
        }
      },
      "outputs": [
        {
          "output_type": "stream",
          "name": "stdout",
          "text": [
            "[10, 20, 30, 40]\n",
            "[50, 60, 70]\n"
          ]
        }
      ],
      "source": [
        "numbers = [10, 20, 30, 40, 50, 60, 70]\n",
        "# 첫 4개의 원소 출력\n",
        "\n",
        "print(numbers[:4])\n",
        "# 뒤 3개의 원소를 출력\n",
        "\n",
        "# print(last_three)\n",
        "print(numbers[-3:])"
      ]
    },
    {
      "cell_type": "code",
      "execution_count": 13,
      "metadata": {
        "id": "IO8bsKekR0W_",
        "outputId": "ae6767da-d101-4429-9085-23e897e2b406",
        "colab": {
          "base_uri": "https://localhost:8080/"
        }
      },
      "outputs": [
        {
          "output_type": "stream",
          "name": "stdout",
          "text": [
            "[10, 30, 50, 70]\n",
            "[70, 60, 50, 40, 30, 20, 10]\n"
          ]
        }
      ],
      "source": [
        "numbers = [10, 20, 30, 40, 50, 60, 70]\n",
        "\n",
        "# 홀수번째 항목 출력\n",
        "\n",
        "# print(every_other_list)\n",
        "print(numbers[::2])\n",
        "\n",
        "# 역순 출력\n",
        "\n",
        "# print(reverse_list)\n",
        "print(numbers[::-1])"
      ]
    },
    {
      "cell_type": "code",
      "execution_count": 18,
      "metadata": {
        "id": "60qOf7uxVdAg",
        "outputId": "bd086f67-a24a-4f17-df70-bad0dd68cae1",
        "colab": {
          "base_uri": "https://localhost:8080/"
        }
      },
      "outputs": [
        {
          "output_type": "stream",
          "name": "stdout",
          "text": [
            "[[1, 2, 3, 4], [5, 6, 7, 8]]\n",
            "[[1, 2], [5, 6], [9, 10], [13, 14]]\n"
          ]
        }
      ],
      "source": [
        "matrix = [\n",
        "    [1, 2, 3, 4],\n",
        "    [5, 6, 7, 8],\n",
        "    [9, 10, 11, 12],\n",
        "    [13, 14, 15, 16]\n",
        "]\n",
        "\n",
        "# 첫 두 행 출력\n",
        "\n",
        "\n",
        "# print(first_two_rows)\n",
        "print(matrix[0:2])\n",
        "\n",
        "# 첫 두 열 출력\n",
        "\n",
        "\n",
        "# print(first_two_columns)\n",
        "print([row[0:2] for row in matrix])"
      ]
    },
    {
      "cell_type": "markdown",
      "metadata": {
        "id": "eOMufu5SXiAU"
      },
      "source": [
        "## 2-2 리스트 컴프리헨션"
      ]
    },
    {
      "cell_type": "code",
      "execution_count": 20,
      "metadata": {
        "id": "JpmgdsW9V0CY",
        "outputId": "75f35249-d164-46fa-d8a3-e5a91ce69b12",
        "colab": {
          "base_uri": "https://localhost:8080/"
        }
      },
      "outputs": [
        {
          "output_type": "stream",
          "name": "stdout",
          "text": [
            "[0, 1, 2, 3, 4]\n"
          ]
        }
      ],
      "source": [
        "numbers = [ ]\n",
        "\n",
        "# 0 ~ 4 포함 리스트 생성\n",
        "for i in range(5):\n",
        "    numbers.append(i)\n",
        "\n",
        "numbers = [num for num in range(5)]\n",
        "\n",
        "print(numbers)"
      ]
    },
    {
      "cell_type": "code",
      "execution_count": 21,
      "metadata": {
        "id": "cRC8x3_iW0im",
        "outputId": "cbdb8544-a23c-4884-a1e9-161b94a99f28",
        "colab": {
          "base_uri": "https://localhost:8080/"
        }
      },
      "outputs": [
        {
          "output_type": "stream",
          "name": "stdout",
          "text": [
            "[1, 4, 9, 16, 25]\n"
          ]
        }
      ],
      "source": [
        "numbers = [1, 2, 3, 4, 5]\n",
        "squares = [ ]\n",
        "\n",
        "# numbers의 모든 항목의 값을 제곱한 리스트\n",
        "for num in numbers:\n",
        "  squares.append(num ** 2)\n",
        "\n",
        "squares = [num ** 2 for num in numbers]\n",
        "print(squares)"
      ]
    },
    {
      "cell_type": "code",
      "execution_count": 22,
      "metadata": {
        "id": "MAvimjk6Fqlc",
        "outputId": "8a921060-e26c-4818-a04a-7c2e9dc3b600",
        "colab": {
          "base_uri": "https://localhost:8080/"
        }
      },
      "outputs": [
        {
          "output_type": "stream",
          "name": "stdout",
          "text": [
            "[2, 4, 6, 8, 10]\n"
          ]
        }
      ],
      "source": [
        "numbers = [1, 2, 3, 4, 5, 6, 7, 8, 9, 10]\n",
        "even_numbers = [ ]\n",
        "\n",
        "# 짝수만 추출한 리스트\n",
        "for num in numbers:\n",
        "    if num % 2 == 0:\n",
        "        even_numbers.append(num)\n",
        "\n",
        "even_numbers = [num for num in numbers if num % 2 == 0]\n",
        "print(even_numbers)"
      ]
    },
    {
      "cell_type": "code",
      "execution_count": 39,
      "metadata": {
        "id": "HGO8XTxBFqld",
        "outputId": "208c88a7-b5b5-4c64-c39e-cfaff0e37305",
        "colab": {
          "base_uri": "https://localhost:8080/"
        }
      },
      "outputs": [
        {
          "output_type": "stream",
          "name": "stdout",
          "text": [
            "[('사과', '주스'), ('사과', '잼'), ('사과', '통조림'), ('복숭아', '주스'), ('복숭아', '잼'), ('복숭아', '통조림'), ('바나나', '주스'), ('바나나', '잼'), ('바나나', '통조림')]\n"
          ]
        }
      ],
      "source": [
        "list1 = ['사과', '복숭아', '바나나']\n",
        "list2 = ['주스', '잼', '통조림']\n",
        "pairs = [ ]\n",
        "\n",
        "# 두 리스트에 포함되 모든 원소를 조합한 투플의 리스트 생성\n",
        "# for fruit in list1:\n",
        "#     for product in list2:\n",
        "#         pairs.append((fruit, product))\n",
        "\n",
        "pairs = [(fruit, product) for fruit in list1 for product in list2]\n",
        "\n",
        "print(pairs)"
      ]
    },
    {
      "cell_type": "code",
      "execution_count": 43,
      "metadata": {
        "id": "K-BPhFTUFqle",
        "outputId": "01880e9e-7ed0-4766-bf7e-29cb1075241a",
        "colab": {
          "base_uri": "https://localhost:8080/"
        }
      },
      "outputs": [
        {
          "output_type": "stream",
          "name": "stdout",
          "text": [
            "{0: 0, 1: 1, 2: 4, 3: 9, 4: 16}\n"
          ]
        }
      ],
      "source": [
        "squares = { }\n",
        "\n",
        "# 딕셔너리 생성\n",
        "# for i in range(5):\n",
        "#     squares[i] = i ** 2\n",
        "\n",
        "squares = {i: i ** 2 for i in range(5)}\n",
        "\n",
        "print(squares)"
      ]
    },
    {
      "cell_type": "code",
      "execution_count": 48,
      "metadata": {
        "id": "UoTcC8-GFqlf",
        "outputId": "76042fd2-3c72-4ad1-a723-a7be860430b2",
        "colab": {
          "base_uri": "https://localhost:8080/"
        }
      },
      "outputs": [
        {
          "output_type": "stream",
          "name": "stdout",
          "text": [
            "{'서울': 957, '부산': 339, '인천': 294, '대구': 242}\n",
            "{'부산': 339}\n"
          ]
        }
      ],
      "source": [
        "city_population = {\n",
        "    '서울': 957, '부산': 339, '인천': 294, '대구': 242, '광주': 145, '대전': 147,\n",
        "    '울산': 114, '세종': 36, '수원': 115, '창원': 103, '고양': 105, '용인': 108, '성남': 94\n",
        "}\n",
        "\n",
        "# 인구 200만명 이상의 도시 리스트\n",
        "\n",
        "large_cities = {i: j for i, j in city_population.items() if j >= 200}\n",
        "\n",
        "print(large_cities)\n",
        "\n",
        "# 인구 300만 이상 및 이름에 '산'이 포함된 도시 리스트\n",
        "\n",
        "large_short_name_cities = {i: j for i, j in city_population.items() if j >= 300 and '산' in i}\n",
        "\n",
        "print(large_short_name_cities)"
      ]
    },
    {
      "cell_type": "markdown",
      "metadata": {
        "id": "njDOfr1LFqlf"
      },
      "source": [
        "## 2-3 문자열 형식화"
      ]
    },
    {
      "cell_type": "code",
      "execution_count": 60,
      "metadata": {
        "id": "fzO0h6KfFqlg",
        "outputId": "f5b33625-0b50-4b95-cd53-0ea43839781b",
        "colab": {
          "base_uri": "https://localhost:8080/"
        }
      },
      "outputs": [
        {
          "output_type": "stream",
          "name": "stdout",
          "text": [
            "직원이름: 홍길동, 나이: 30, 세금: 350000, 실수령액: 3150000\n",
            "직원이름: 홍길동, 나이: 30, 세금: 350000, 실수령액: 3150000\n"
          ]
        }
      ],
      "source": [
        "name = '홍길동'\n",
        "age = 30\n",
        "salary = 3500000\n",
        "tax_rate = 0.1\n",
        "\n",
        "# C 스타일 문자열 포매팅\n",
        "# 이름, 나이, 월급 출력\n",
        "basic_format = '이름: %s, 나이: %d, 월급: %d' % (name, age, salary)\n",
        "keyword_format = '이름: %(name)s, 나이: %(age)d, 월급: %(salary)d' % {\"name\":name, \"age\":age, \"salary\":salary}\n",
        "\n",
        "# 직원이름, 나이, 세후 월급 출력\n",
        "basic_format = '직원이름: %s, 나이: %d, 세후 월급: %.f' % (name, age, salary * (1-tax_rate))\n",
        "keyword_format = '직원이름: %(name)s, 나이: %(age)d, 세후 월급: %(salary).f' % {\"name\":name, \"age\":age, \"salary\":salary * (1-tax_rate)}\n",
        "\n",
        "# 직원이름, 나이, 월급, 세금, 실수령액 추력\n",
        "basic_format = '직원이름: %s, 나이: %d, 세금: %.f, 실수령액: %.f' % (name, age, salary * tax_rate, salary * (1-tax_rate))\n",
        "keyword_format = '직원이름: %(name)s, 나이: %(age)d, 세금: %(tax).f, 실수령액: %(salary).f' % {\"name\":name, \"age\":age, \"tax\": salary * tax_rate, \"salary\":salary * (1-tax_rate)}\n",
        "\n",
        "\n",
        "print(basic_format)\n",
        "print(keyword_format)"
      ]
    },
    {
      "cell_type": "code",
      "source": [
        "name = '홍길동'\n",
        "age = 30\n",
        "salary = 3500000\n",
        "tax_rate = 0.1\n",
        "\n",
        "# str.format 문자열 포매팅\n",
        "# 이름, 나이, 월급 출력\n",
        "basic_format = '이름: {}, 나이: {}, 월급: {}'.format(name, age, salary)\n",
        "index_format = '이름: {0}, 나이: {1}, 월급: {2}'.format(name, age, salary)\n",
        "keyword_format = '이름: {name}, 나이: {age}, 월급: {salary}'.format(name=name, age=age, salary=salary)\n",
        "\n",
        "# 직원이름, 나이, 세후 월급 출력\n",
        "basic_format = '직원이름: {}, 나이: {}, 세후 월급: {}'.format(name, age, int(salary * (1 - tax_rate)))\n",
        "index_format = '직원이름: {0}, 나이: {1}, 세후 월급: {2}'.format(name, age, int(salary * (1 - tax_rate)))\n",
        "keyword_format = '직원이름: {name}, 나이: {age}, 세후 월급: {salary}'.format(name=name, age=age, salary=int(salary * (1 - tax_rate)))\n",
        "\n",
        "# 직원이름, 나이, 월급, 세금, 실수령액 추력\n",
        "basic_format = '직원이름: {}, 나이: {}, 월급: {}, 세금: {}, 실수령액: {}'.format(name, age, salary, int(salary * tax_rate), int(salary * (1 - tax_rate)))\n",
        "index_format = '직원이름: {0}, 나이: {1}, 월급: {2}, 세금: {3}, 실수령액: {4}'.format(name, age, salary, int(salary * tax_rate), int(salary * (1 - tax_rate)))\n",
        "keyword_format = '직원이름: {name}, 나이: {age}, 월급: {salary}, 세금: {tax}, 실수령액: {netSalary}'.format(name=name, age=age, salary=salary, tax=int(salary * tax_rate), netSalary=int(salary * (1 - tax_rate)))\n",
        "\n",
        "\n",
        "print(basic_format)\n",
        "print(index_format)\n",
        "print(keyword_format)"
      ],
      "metadata": {
        "id": "cIvmmcQux_ph",
        "outputId": "e2c7627b-26fa-4a57-8782-ad25c278b213",
        "colab": {
          "base_uri": "https://localhost:8080/"
        }
      },
      "execution_count": 73,
      "outputs": [
        {
          "output_type": "stream",
          "name": "stdout",
          "text": [
            "직원이름: 홍길동, 나이: 30, 월급: 3500000, 세금: 350000, 실수령액: 3150000\n",
            "직원이름: 홍길동, 나이: 30, 월급: 3500000, 세금: 350000, 실수령액: 3150000\n",
            "직원이름: 홍길동, 나이: 30, 월급: 3500000, 세금: 350000, 실수령액: 3150000\n"
          ]
        }
      ]
    },
    {
      "cell_type": "code",
      "source": [
        "name = '홍길동'\n",
        "age = 30\n",
        "salary = 3500000\n",
        "tax_rate = 0.1\n",
        "\n",
        "# f-문자열 포매팅\n",
        "# 이름, 나이, 월급 출력\n",
        "basic_format = f\"이름: {name}, 나이: {age}, 월급: {salary}\"\n",
        "index_format = f\"이름: {name}, 나이: {age}, 월급: {salary}\"\n",
        "keyword_format = f\"이름: {name}, 나이: {age}, 월급: {salary}\"\n",
        "\n",
        "# 직원이름, 나이, 세후 월급 출력\n",
        "basic_format = f\"이름: {name}, 나이: {age}, 세후 월급: {salary * (1 - tax_rate):.0f}\"\n",
        "index_format = f\"이름: {name}, 나이: {age}, 세후 월급: {int(salary * (1 - tax_rate))}\"\n",
        "keyword_format = f\"이름: {name}, 나이: {age}, 세후 월급: {int(salary * (1 - tax_rate))}\"\n",
        "\n",
        "# 직원이름, 나이, 월급, 세금, 실수령액 추력\n",
        "basic_format = f\"이름: {name}, 나이: {age}, 월급: {salary}, 세금: {salary * tax_rate: .0f}, 실수령액: {salary * (1 - tax_rate):.0f}\"\n",
        "index_format = f\"이름: {name}, 나이: {age}, 월급: {salary}, 세금: {int(salary * tax_rate)}, 실수령액: {int(salary * (1 - tax_rate))}\"\n",
        "keyword_format = f\"이름: {name}, 나이: {age}, 월급: {salary}, 세금: {int(salary * tax_rate): .0f}, 실수령액: {int(salary * (1 - tax_rate)):.0f}\"\n",
        "\n",
        "\n",
        "print(basic_format)\n",
        "print(index_format)\n",
        "print(keyword_format)"
      ],
      "metadata": {
        "id": "EIO3z-XQx_ce",
        "outputId": "c01dd7aa-0143-457f-9c83-c958f2ca0e78",
        "colab": {
          "base_uri": "https://localhost:8080/"
        }
      },
      "execution_count": 122,
      "outputs": [
        {
          "output_type": "stream",
          "name": "stdout",
          "text": [
            "이름: 홍길동, 나이: 30, 월급: 3500000, 세금:  350000, 실수령액: 3150000\n",
            "이름: 홍길동, 나이: 30, 월급: 3500000, 세금: 350000, 실수령액: 3150000\n",
            "이름: 홍길동, 나이: 30, 월급: 3500000, 세금:  350000, 실수령액: 3150000\n"
          ]
        }
      ]
    },
    {
      "cell_type": "markdown",
      "metadata": {
        "id": "6lnhCleJFqlg"
      },
      "source": [
        "## 2-4 컨텍스트 관리"
      ]
    },
    {
      "cell_type": "code",
      "execution_count": 123,
      "metadata": {
        "id": "eFpmQp3QFqlh"
      },
      "outputs": [],
      "source": [
        "# 파일 오픈 & 클로즈\n",
        "file = open('output.txt', 'w')\n",
        "file.write('Hello, world!\\n')\n",
        "file.close()"
      ]
    },
    {
      "cell_type": "code",
      "execution_count": 126,
      "metadata": {
        "id": "D0aOLti0Fqlh"
      },
      "outputs": [],
      "source": [
        "# 복수개의 파일(읽기 & 쓰기) 관리\n",
        "with open('output.txt', 'w') as file:\n",
        "    file.write('Hello, world!\\n')"
      ]
    },
    {
      "cell_type": "code",
      "execution_count": 124,
      "metadata": {
        "id": "6SE0rrD5Fqli",
        "outputId": "38314f9a-38e0-4a2e-df90-299ad18f954d",
        "colab": {
          "base_uri": "https://localhost:8080/",
          "height": 108
        }
      },
      "outputs": [
        {
          "output_type": "error",
          "ename": "IndentationError",
          "evalue": "unexpected indent (ipython-input-1981888430.py, line 5)",
          "traceback": [
            "\u001b[0;36m  File \u001b[0;32m\"/tmp/ipython-input-1981888430.py\"\u001b[0;36m, line \u001b[0;32m5\u001b[0m\n\u001b[0;31m    data = response.read( ).decode('utf-8')\u001b[0m\n\u001b[0m    ^\u001b[0m\n\u001b[0;31mIndentationError\u001b[0m\u001b[0;31m:\u001b[0m unexpected indent\n"
          ]
        }
      ],
      "source": [
        "import urllib.request\n",
        "\n",
        "# URL 연결 관리\n",
        "('https://raw.githubusercontent.com/jaehwachung/Data-Analysis-with-Open-Source/refs/heads/main/Chapter%203/students.csv')\n",
        "    data = response.read( ).decode('utf-8')\n",
        "\n",
        "print(data)"
      ]
    }
  ],
  "metadata": {
    "colab": {
      "provenance": [],
      "include_colab_link": true
    },
    "kernelspec": {
      "display_name": "Python 3",
      "name": "python3"
    },
    "language_info": {
      "name": "python"
    }
  },
  "nbformat": 4,
  "nbformat_minor": 0
}